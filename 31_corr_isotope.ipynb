{
 "cells": [
  {
   "cell_type": "markdown",
   "metadata": {},
   "source": [
    "## Correlation coefficients "
   ]
  },
  {
   "cell_type": "code",
   "execution_count": 1,
   "metadata": {},
   "outputs": [],
   "source": [
    "import pandas as pd\n",
    "import numpy as np\n",
    "import matplotlib.pyplot as plt\n",
    "from scipy import stats\n",
    "import numpy.ma as ma"
   ]
  },
  {
   "cell_type": "markdown",
   "metadata": {},
   "source": [
    "We will be looking at isotopic composition (delta 18O) values of precipitation. Let's start with stations around North Atlantic. Dansgaard (1964) originally chose those locations to interpret Greenland ice core data."
   ]
  },
  {
   "cell_type": "code",
   "execution_count": 4,
   "metadata": {},
   "outputs": [
    {
     "name": "stdout",
     "output_type": "stream",
     "text": [
      "     Lat    Lon  do18  Temp\n",
      "0   13.0  -59.0  -2.5  25.4\n",
      "1  -40.3   -9.9  -3.3  12.0\n",
      "2  -46.9  -37.7  -4.6   8.8\n",
      "3   62.0   -6.8  -6.1   6.1\n",
      "4   64.1  -21.8  -7.2   5.5\n",
      "5   78.1   13.6 -10.4  -2.7\n",
      "6   52.7   -8.9  -5.3  11.3\n",
      "7   51.5    0.0  -6.2  11.4\n",
      "8   53.3   -6.2  -6.2   9.7\n",
      "9   60.2    5.2  -7.5   6.5\n",
      "10  55.0    8.7  -6.7   9.6\n",
      "11  55.7   12.6  -7.5   9.4\n",
      "12  59.8   23.2  -9.4   5.4\n",
      "13  59.3   17.4  -9.7   5.1\n",
      "14  61.2  -48.5 -11.0   0.2\n",
      "15  66.9  -53.7 -15.5  -4.8\n",
      "16  65.4  -37.2 -15.9  -5.5\n",
      "17  70.3  -22.0 -17.7  -9.2\n",
      "18  61.8  -21.4  -7.2   5.5\n",
      "19  49.0  -54.6  -8.2   5.4\n",
      "20  61.8  -49.6 -14.5  -2.8\n",
      "21  72.5  -56.2 -16.8  -8.4\n",
      "22  81.7  -17.8 -20.4 -14.3\n",
      "23  82.5  -38.3 -24.5 -16.0\n",
      "24  63.4  -44.6 -16.7  -3.7\n",
      "25  71.3  -37.9 -28.6 -19.2\n",
      "26  65.2  -43.8 -21.1  -9.1\n",
      "27  66.4  -46.2 -21.1  -9.1\n",
      "28  70.3  -45.6 -27.3 -16.7\n",
      "29  71.1  -37.3 -28.6 -19.2\n",
      "30  75.8  -43.8 -19.6 -17.3\n",
      "31  77.2  -61.1 -22.0 -13.6\n",
      "32 -66.0   76.1 -15.3 -10.0\n",
      "33 -78.0 -165.0 -16.7 -17.7\n",
      "34 -78.4  -86.5 -27.5 -26.0\n",
      "35 -80.1 -121.0 -27.6 -22.0\n",
      "36 -85.0    0.0 -42.8 -36.2\n",
      "37 -90.0    0.0 -46.1 -40.4\n"
     ]
    }
   ],
   "source": [
    "filename='dansgaard.dat'\n",
    "\n",
    "# Read a file and choose DATE as an index\n",
    "df = pd.read_csv(filename,delim_whitespace=True)\n",
    "print(df)"
   ]
  },
  {
   "cell_type": "markdown",
   "metadata": {},
   "source": [
    "Make a plot."
   ]
  },
  {
   "cell_type": "code",
   "execution_count": 5,
   "metadata": {},
   "outputs": [
    {
     "data": {
      "text/plain": [
       "Text(0, 0.5, 'd18O (permil)')"
      ]
     },
     "execution_count": 5,
     "metadata": {},
     "output_type": "execute_result"
    },
    {
     "data": {
      "image/png": "[encoded data removed]",
      "text/plain": [
       "<Figure size 640x480 with 1 Axes>"
      ]
     },
     "metadata": {},
     "output_type": "display_data"
    }
   ],
   "source": [
    "plt.plot(df.Temp,df.do18,'.')\n",
    "plt.xlabel('T (oC)')\n",
    "plt.ylabel('d18O (permil)')"
   ]
  },
  {
   "cell_type": "markdown",
   "metadata": {},
   "source": [
    "Simple way to calculate correlation coefficients."
   ]
  },
  {
   "cell_type": "code",
   "execution_count": 6,
   "metadata": {},
   "outputs": [
    {
     "data": {
      "text/html": [
       "<div>\n",
       "<style scoped>\n",
       "    .dataframe tbody tr th:only-of-type {\n",
       "        vertical-align: middle;\n",
       "    }\n",
       "\n",
       "    .dataframe tbody tr th {\n",
       "        vertical-align: top;\n",
       "    }\n",
       "\n",
       "    .dataframe thead th {\n",
       "        text-align: right;\n",
       "    }\n",
       "</style>\n",
       "<table border=\"1\" class=\"dataframe\">\n",
       "  <thead>\n",
       "    <tr style=\"text-align: right;\">\n",
       "      <th></th>\n",
       "      <th>Lat</th>\n",
       "      <th>Lon</th>\n",
       "      <th>do18</th>\n",
       "      <th>Temp</th>\n",
       "    </tr>\n",
       "  </thead>\n",
       "  <tbody>\n",
       "    <tr>\n",
       "      <th>Lat</th>\n",
       "      <td>1.000000</td>\n",
       "      <td>0.182735</td>\n",
       "      <td>0.338050</td>\n",
       "      <td>0.368756</td>\n",
       "    </tr>\n",
       "    <tr>\n",
       "      <th>Lon</th>\n",
       "      <td>0.182735</td>\n",
       "      <td>1.000000</td>\n",
       "      <td>0.217031</td>\n",
       "      <td>0.282253</td>\n",
       "    </tr>\n",
       "    <tr>\n",
       "      <th>do18</th>\n",
       "      <td>0.338050</td>\n",
       "      <td>0.217031</td>\n",
       "      <td>1.000000</td>\n",
       "      <td>0.959442</td>\n",
       "    </tr>\n",
       "    <tr>\n",
       "      <th>Temp</th>\n",
       "      <td>0.368756</td>\n",
       "      <td>0.282253</td>\n",
       "      <td>0.959442</td>\n",
       "      <td>1.000000</td>\n",
       "    </tr>\n",
       "  </tbody>\n",
       "</table>\n",
       "</div>"
      ],
      "text/plain": [
       "           Lat       Lon      do18      Temp\n",
       "Lat   1.000000  0.182735  0.338050  0.368756\n",
       "Lon   0.182735  1.000000  0.217031  0.282253\n",
       "do18  0.338050  0.217031  1.000000  0.959442\n",
       "Temp  0.368756  0.282253  0.959442  1.000000"
      ]
     },
     "execution_count": 6,
     "metadata": {},
     "output_type": "execute_result"
    }
   ],
   "source": [
    "df.corr(method='pearson')"
   ]
  },
  {
   "cell_type": "markdown",
   "metadata": {},
   "source": [
    "Now let's calculate the correlation coefficient and r-value between d18O and Temp. scipy.stats.pearsonr returns the correlation coefficient and r-value."
   ]
  },
  {
   "cell_type": "code",
   "execution_count": 7,
   "metadata": {},
   "outputs": [
    {
     "name": "stdout",
     "output_type": "stream",
     "text": [
      "0.9594417190462717 2.1957718875510012e-21\n"
     ]
    }
   ],
   "source": [
    "r,p=stats.pearsonr(df.Temp,df.do18)\n",
    "print(r,p)"
   ]
  },
  {
   "cell_type": "markdown",
   "metadata": {},
   "source": [
    "scipy.stats.linregress calculates a linear least-squares regression for two sets of measurements. Print out the slope and y-intercept for the linear regression."
   ]
  },
  {
   "cell_type": "code",
   "execution_count": 8,
   "metadata": {},
   "outputs": [
    {
     "name": "stdout",
     "output_type": "stream",
     "text": [
      "0.6967162391940933 -12.507703941220582\n"
     ]
    }
   ],
   "source": [
    "#slope, intercept, r_value, p_value, std_err = stats.linregress(x,y)\n",
    "slope, intercept, r_value, p_value, std_err = stats.linregress(df.Temp,df.do18)\n",
    "print(slope, intercept)"
   ]
  },
  {
   "cell_type": "markdown",
   "metadata": {},
   "source": [
    "Make a plot with a linear fit."
   ]
  },
  {
   "cell_type": "code",
   "execution_count": 9,
   "metadata": {},
   "outputs": [
    {
     "data": {
      "text/plain": [
       "[<matplotlib.lines.Line2D at 0x1424349a0>]"
      ]
     },
     "execution_count": 9,
     "metadata": {},
     "output_type": "execute_result"
    },
    {
     "data": {
      "image/png": "[encoded data removed]",
      "text/plain": [
       "<Figure size 640x480 with 1 Axes>"
      ]
     },
     "metadata": {},
     "output_type": "display_data"
    }
   ],
   "source": [
    "plt.plot(df.Temp,df.do18,'.')\n",
    "plt.xlabel('T (oC)')\n",
    "plt.ylabel('d18O (permil)')\n",
    "xx=np.arange(-60,31)\n",
    "yy=xx*slope+intercept\n",
    "plt.plot(xx,yy)"
   ]
  },
  {
   "cell_type": "markdown",
   "metadata": {},
   "source": [
    "Exclude the value with T > 15oC"
   ]
  },
  {
   "cell_type": "code",
   "execution_count": 10,
   "metadata": {},
   "outputs": [
    {
     "name": "stdout",
     "output_type": "stream",
     "text": [
      "0.7327467912852892 -12.093450817500504\n"
     ]
    }
   ],
   "source": [
    "# Mask out where T greater than 15oC\n",
    "temp_new=ma.masked_outside(df.Temp,-60.,15.)\n",
    "# define mask\n",
    "mask_temp=ma.getmask(temp_new)\n",
    "# Mask out where T greater than 15oC\n",
    "d18o_new=ma.masked_array(df.do18,mask=mask_temp)\n",
    "\n",
    "#Accessing only the valid entries\n",
    "\n",
    "#slope, intercept, r_value, p_value, std_err = stats.linregress(x,y)\n",
    "slope2, intercept2, r_value, p_value, std_err = stats.linregress(temp_new[~mask_temp],d18o_new[~mask_temp])\n",
    "\n",
    "print(slope2, intercept2)"
   ]
  },
  {
   "cell_type": "markdown",
   "metadata": {},
   "source": [
    "Exclude the values with T > 15oC and make the same plot as above."
   ]
  },
  {
   "cell_type": "code",
   "execution_count": 12,
   "metadata": {},
   "outputs": [
    {
     "data": {
      "text/plain": [
       "[<matplotlib.lines.Line2D at 0x123857d90>]"
      ]
     },
     "execution_count": 12,
     "metadata": {},
     "output_type": "execute_result"
    },
    {
     "data": {
      "image/png": "[encoded data removed]",
      "text/plain": [
       "<Figure size 432x288 with 1 Axes>"
      ]
     },
     "metadata": {
      "needs_background": "light"
     },
     "output_type": "display_data"
    }
   ],
   "source": [
    "plt.plot(temp_new,d18o_new,'.')\n",
    "plt.xlabel('T (oC)')\n",
    "plt.ylabel('d18O (permil)')\n",
    "xx=np.arange(-60,31)\n",
    "yy=xx*slope+intercept\n",
    "plt.plot(xx,yy)"
   ]
  },
  {
   "cell_type": "markdown",
   "metadata": {},
   "source": [
    "### Exercise\n",
    "Now let's use all precipitation isotope data. \n",
    "Read gnip_annual.txt using pandas."
   ]
  },
  {
   "cell_type": "code",
   "execution_count": null,
   "metadata": {},
   "outputs": [],
   "source": []
  },
  {
   "cell_type": "markdown",
   "metadata": {},
   "source": [
    "Make a scatter plot between d18O and Temp."
   ]
  },
  {
   "cell_type": "code",
   "execution_count": null,
   "metadata": {},
   "outputs": [],
   "source": []
  },
  {
   "cell_type": "markdown",
   "metadata": {},
   "source": [
    "Now let's calculate the correlation coefficient and r-value between d18O and Temp."
   ]
  },
  {
   "cell_type": "code",
   "execution_count": null,
   "metadata": {},
   "outputs": [],
   "source": []
  },
  {
   "cell_type": "markdown",
   "metadata": {},
   "source": [
    "Print out the slope and y-intercept for the linear regression."
   ]
  },
  {
   "cell_type": "code",
   "execution_count": null,
   "metadata": {},
   "outputs": [],
   "source": []
  },
  {
   "cell_type": "markdown",
   "metadata": {},
   "source": [
    "Make a scatter plot between d18O and Temp. Then add a linear regression fit."
   ]
  },
  {
   "cell_type": "code",
   "execution_count": null,
   "metadata": {},
   "outputs": [],
   "source": []
  },
  {
   "cell_type": "markdown",
   "metadata": {},
   "source": [
    "Exclude the values with T > 15oC."
   ]
  },
  {
   "cell_type": "code",
   "execution_count": null,
   "metadata": {},
   "outputs": [],
   "source": []
  },
  {
   "cell_type": "markdown",
   "metadata": {},
   "source": [
    "Make a scatter plot and linear regression fit, excluding the values with T>15oC."
   ]
  },
  {
   "cell_type": "code",
   "execution_count": null,
   "metadata": {},
   "outputs": [],
   "source": []
  }
 ],
 "metadata": {
  "kernelspec": {
   "display_name": "Python 3 (ipykernel)",
   "language": "python",
   "name": "python3"
  },
  "language_info": {
   "codemirror_mode": {
    "name": "ipython",
    "version": 3
   },
   "file_extension": ".py",
   "mimetype": "text/x-python",
   "name": "python",
   "nbconvert_exporter": "python",
   "pygments_lexer": "ipython3",
   "version": "3.10.8"
  }
 },
 "nbformat": 4,
 "nbformat_minor": 4
}
