{
 "cells": [
  {
   "cell_type": "markdown",
   "metadata": {
    "id": "qcmbyYeea-ra"
   },
   "source": [
    "# Variables"
   ]
  },
  {
   "cell_type": "markdown",
   "metadata": {
    "id": "_bGZKCnda-re"
   },
   "source": [
    "## Variables"
   ]
  },
  {
   "cell_type": "markdown",
   "metadata": {
    "id": "Vx5YJe5aa-rf"
   },
   "source": [
    "- Variables are how values are stored in a computer. They form the basis of all imperative programming languages.\n",
    "- A variable can be a number, a character, a string (sequence of character), a collection of numbers, etc. \n",
    "- The equal sign (=) is used to assign a value to a variable (again, be careful to not confuse with testing for equality ==)."
   ]
  },
  {
   "cell_type": "markdown",
   "metadata": {
    "id": "XRjFbM1ja-rf"
   },
   "source": [
    "### Examples of variables"
   ]
  },
  {
   "cell_type": "code",
   "execution_count": null,
   "metadata": {
    "id": "u4C98fz3a-rf"
   },
   "outputs": [],
   "source": [
    "width = 20"
   ]
  },
  {
   "cell_type": "markdown",
   "metadata": {
    "id": "dOtRRIeYa-rg"
   },
   "source": [
    "### Exercise"
   ]
  },
  {
   "cell_type": "markdown",
   "metadata": {
    "id": "4IQ6Uhkqa-rg"
   },
   "source": [
    "Define a variable with a name pi with a value of 3.14."
   ]
  },
  {
   "cell_type": "code",
   "execution_count": null,
   "metadata": {
    "id": "fgpCFvnTa-rh"
   },
   "outputs": [],
   "source": []
  },
  {
   "cell_type": "markdown",
   "metadata": {
    "id": "on1JLmcta-rh"
   },
   "source": [
    "Variables are manipulated and combined with operators, forming “expressions”."
   ]
  },
  {
   "cell_type": "code",
   "execution_count": null,
   "metadata": {
    "id": "SBeotn93a-rh",
    "outputId": "39a1b666-a52a-4fdb-94f9-a86139c2aad2"
   },
   "outputs": [
    {
     "data": {
      "text/plain": [
       "100"
      ]
     },
     "execution_count": 66,
     "metadata": {
      "tags": []
     },
     "output_type": "execute_result"
    }
   ],
   "source": [
    "height = 20\n",
    "width =5\n",
    "height * width"
   ]
  },
  {
   "cell_type": "markdown",
   "metadata": {
    "id": "MYptudW2a-ri"
   },
   "source": [
    "More complex operations are provided by functions. For example, the absolute value of a number:"
   ]
  },
  {
   "cell_type": "code",
   "execution_count": null,
   "metadata": {
    "id": "oplDKIFWa-rj",
    "outputId": "2b721e90-814a-461d-aa99-6e12fccef789"
   },
   "outputs": [
    {
     "data": {
      "text/plain": [
       "3"
      ]
     },
     "execution_count": 67,
     "metadata": {
      "tags": []
     },
     "output_type": "execute_result"
    }
   ],
   "source": [
    "abs(-3)"
   ]
  },
  {
   "cell_type": "markdown",
   "metadata": {
    "id": "etC6OqkOa-rj"
   },
   "source": [
    "Variables must be “defined” (assigned a value) before they can be used, or an error will occur:"
   ]
  },
  {
   "cell_type": "code",
   "execution_count": null,
   "metadata": {
    "id": "nyo6P4jka-rk",
    "outputId": "d09e00c8-5b00-44ba-a94e-149afdc4143e"
   },
   "outputs": [
    {
     "ename": "NameError",
     "evalue": "name 'n' is not defined",
     "output_type": "error",
     "traceback": [
      "\u001b[0;31m---------------------------------------------------------------------------\u001b[0m",
      "\u001b[0;31mNameError\u001b[0m                                 Traceback (most recent call last)",
      "\u001b[0;32m<ipython-input-68-ab0680a89434>\u001b[0m in \u001b[0;36m<module>\u001b[0;34m\u001b[0m\n\u001b[0;32m----> 1\u001b[0;31m \u001b[0mn\u001b[0m\u001b[0;34m\u001b[0m\u001b[0;34m\u001b[0m\u001b[0m\n\u001b[0m",
      "\u001b[0;31mNameError\u001b[0m: name 'n' is not defined"
     ]
    }
   ],
   "source": [
    "n"
   ]
  },
  {
   "cell_type": "markdown",
   "metadata": {
    "id": "8HJtgSZDa-rk"
   },
   "source": [
    "Variables in Python are “typed”. "
   ]
  },
  {
   "cell_type": "code",
   "execution_count": null,
   "metadata": {
    "id": "rMYSjkD_a-rl"
   },
   "outputs": [],
   "source": [
    "a = 10\n",
    "b = 20.0\n",
    "c = \"it's just a flesh wound!\""
   ]
  },
  {
   "cell_type": "markdown",
   "metadata": {
    "id": "ClwZ2HnQa-rl"
   },
   "source": [
    "Every variable has a given type, which you can check by writing type(varname)."
   ]
  },
  {
   "cell_type": "code",
   "execution_count": null,
   "metadata": {
    "id": "2OpyJ-u-a-rm",
    "outputId": "457f6019-4478-49aa-da78-ff3ecbf2012d"
   },
   "outputs": [
    {
     "data": {
      "text/plain": [
       "int"
      ]
     },
     "execution_count": 70,
     "metadata": {
      "tags": []
     },
     "output_type": "execute_result"
    }
   ],
   "source": [
    "type(a)"
   ]
  },
  {
   "cell_type": "markdown",
   "metadata": {
    "id": "L0rUxpoWa-rm"
   },
   "source": [
    "### Exercise: \n",
    "What is the types of variables b?"
   ]
  },
  {
   "cell_type": "code",
   "execution_count": null,
   "metadata": {
    "id": "4wJZxeR5a-rn"
   },
   "outputs": [],
   "source": []
  },
  {
   "cell_type": "markdown",
   "metadata": {
    "id": "aTLBrcPpa-rn"
   },
   "source": [
    "### Exercise: \n",
    "What is the types of variables c?"
   ]
  },
  {
   "cell_type": "code",
   "execution_count": null,
   "metadata": {
    "id": "RF_BnY03a-rn"
   },
   "outputs": [],
   "source": []
  },
  {
   "cell_type": "markdown",
   "metadata": {
    "id": "Ikuddu3ja-ro"
   },
   "source": [
    "Directly combining variables of different types usually creates an error (although Python automatically converts some of them, e.g. int to float).\n",
    "(Python is dynamically strongly typed)."
   ]
  },
  {
   "cell_type": "markdown",
   "metadata": {
    "id": "-FJv7Tp3a-ro"
   },
   "source": [
    "## Strings\n",
    "- A string is a sequence of characters.<br>\n",
    "- Strings must be enclosed in quotes (''). Double quotes (\"\") also work"
   ]
  },
  {
   "cell_type": "code",
   "execution_count": null,
   "metadata": {
    "id": "tFnXjVLza-ro"
   },
   "outputs": [],
   "source": [
    "text = 'This is a string'"
   ]
  },
  {
   "cell_type": "markdown",
   "metadata": {
    "id": "K2U5UZcTa-rp"
   },
   "source": [
    "Strings have a length: their number of characters (includes everything!) <br>\n",
    "    Use the len function to get it."
   ]
  },
  {
   "cell_type": "code",
   "execution_count": null,
   "metadata": {
    "id": "eIfP0iL0a-rp",
    "outputId": "a505e8d0-f3cb-475a-ea0b-462bc59dff25"
   },
   "outputs": [
    {
     "data": {
      "text/plain": [
       "16"
      ]
     },
     "execution_count": 3,
     "metadata": {
      "tags": []
     },
     "output_type": "execute_result"
    }
   ],
   "source": [
    "len(text)"
   ]
  },
  {
   "cell_type": "markdown",
   "metadata": {
    "id": "ad3rDvHDa-rq"
   },
   "source": [
    "# Python program\n",
    "- Example"
   ]
  },
  {
   "cell_type": "code",
   "execution_count": null,
   "metadata": {
    "id": "EaaUSlBBa-rq",
    "outputId": "4b0aa8bd-3e5c-4219-c87d-f2c0d5e10312"
   },
   "outputs": [
    {
     "name": "stdout",
     "output_type": "stream",
     "text": [
      "Volume:  6000\n"
     ]
    }
   ],
   "source": [
    "# Definitions (This is a comment)\n",
    "width = 10\n",
    "height = 20\n",
    "length = 30\n",
    "\n",
    "# Do the math and show the results\n",
    "volume = width*height*length\n",
    "print ('Volume: ', volume)"
   ]
  },
  {
   "cell_type": "markdown",
   "metadata": {
    "id": "_IBlm2FCa-rr"
   },
   "source": [
    "### Exercise: \n",
    "Write a program that calculates the area of a circle (use the above example)."
   ]
  },
  {
   "cell_type": "code",
   "execution_count": null,
   "metadata": {
    "id": "fWuvEgIaa-rr"
   },
   "outputs": [],
   "source": []
  },
  {
   "cell_type": "markdown",
   "metadata": {},
   "source": [
    "Reference: <br>\n",
    "    University of College London Python lecture note <br>\n",
    "    MIT Python lecture note <br>\n",
    "    Scipy lecture notes (http://scipy-lectures.org/index.html)"
   ]
  }
 ],
 "metadata": {
  "colab": {
   "collapsed_sections": [],
   "name": "02_variables_dap.ipynb",
   "provenance": []
  },
  "kernelspec": {
   "display_name": "Python 3 (ipykernel)",
   "language": "python",
   "name": "python3"
  },
  "language_info": {
   "codemirror_mode": {
    "name": "ipython",
    "version": 3
   },
   "file_extension": ".py",
   "mimetype": "text/x-python",
   "name": "python",
   "nbconvert_exporter": "python",
   "pygments_lexer": "ipython3",
   "version": "3.10.8"
  }
 },
 "nbformat": 4,
 "nbformat_minor": 4
}
