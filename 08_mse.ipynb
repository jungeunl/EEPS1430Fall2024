{
 "cells": [
  {
   "cell_type": "markdown",
   "id": "5682c99a-3289-493c-8056-8fa37429cf46",
   "metadata": {},
   "source": [
    "Plot vertical temperature profile from NCEP reanalysis data. xarray.open_dataset can open and decode a dataset from a file path or an OpenDAP URL.\n",
    "\n",
    "The dataset that we will be using is here:\n",
    "Catalog for long term mean data: https://psl.noaa.gov/thredds/catalog/Datasets/ncep.reanalysis.derived/pressure/catalog.html\n",
    "\n",
    "Data server catalog for all NOAA data:\n",
    "https://psl.noaa.gov/thredds/catalog/catalog.html"
   ]
  },
  {
   "cell_type": "code",
   "execution_count": 64,
   "id": "9b17d47e-e3d4-4637-b074-c76151216e30",
   "metadata": {},
   "outputs": [],
   "source": [
    "import cartopy.crs as ccrs\n",
    "import matplotlib.pyplot as plt\n",
    "import numpy as np\n",
    "import xarray as xr\n",
    "import pandas as pd\n",
    "import metpy.calc\n",
    "from metpy.units import units"
   ]
  },
  {
   "cell_type": "code",
   "execution_count": 65,
   "id": "b439ac38-877e-4fbd-9a2b-3cd01d2ab9c4",
   "metadata": {},
   "outputs": [
    {
     "name": "stderr",
     "output_type": "stream",
     "text": [
      "/Users/jungeunl/miniconda3/lib/python3.10/site-packages/xarray/coding/times.py:699: SerializationWarning: Unable to decode time axis into full numpy.datetime64 objects, continuing using cftime.datetime objects instead, reason: dates out of range\n",
      "  dtype = _decode_cf_datetime_dtype(data, units, calendar, self.use_cftime)\n",
      "/Users/jungeunl/miniconda3/lib/python3.10/site-packages/xarray/core/indexing.py:524: SerializationWarning: Unable to decode time axis into full numpy.datetime64 objects, continuing using cftime.datetime objects instead, reason: dates out of range\n",
      "  return np.asarray(array[self.key], dtype=None)\n"
     ]
    },
    {
     "name": "stdout",
     "output_type": "stream",
     "text": [
      "<xarray.Dataset>\n",
      "Dimensions:             (level: 17, lat: 73, lon: 144, time: 12, nbnds: 2)\n",
      "Coordinates:\n",
      "  * level               (level) float32 1e+03 925.0 850.0 ... 30.0 20.0 10.0\n",
      "  * lat                 (lat) float32 90.0 87.5 85.0 82.5 ... -85.0 -87.5 -90.0\n",
      "  * lon                 (lon) float32 0.0 2.5 5.0 7.5 ... 352.5 355.0 357.5\n",
      "  * time                (time) object 0001-01-01 00:00:00 ... 0001-12-01 00:0...\n",
      "Dimensions without coordinates: nbnds\n",
      "Data variables:\n",
      "    climatology_bounds  (time, nbnds) datetime64[ns] ...\n",
      "    air                 (time, level, lat, lon) float32 ...\n",
      "    valid_yr_count      (time, level, lat, lon) float32 ...\n",
      "Attributes:\n",
      "    description:                     Data from NCEP initialized reanalysis (4...\n",
      "    platform:                       Model\n",
      "    Conventions:                    COARDS\n",
      "    NCO:                            20121012\n",
      "    history:                        Created 2021/07/26 by doMonthLTMNC4\n",
      "    title:                          monthly mean air from the NCEP Reanalysis\n",
      "    dataset_title:                  NCEP-NCAR Reanalysis 1\n",
      "    References:                     http://www.psl.noaa.gov/data/gridded/data...\n",
      "    not_missing_threshold_percent:  minimum 3% values input to have non-missi...\n",
      "    _NCProperties:                  version=2,netcdf=4.7.0,hdf5=1.10.5,\n",
      "<xarray.Dataset>\n",
      "Dimensions:             (level: 8, lat: 73, lon: 144, time: 12, nbnds: 2)\n",
      "Coordinates:\n",
      "  * level               (level) float32 1e+03 925.0 850.0 ... 500.0 400.0 300.0\n",
      "  * lat                 (lat) float32 90.0 87.5 85.0 82.5 ... -85.0 -87.5 -90.0\n",
      "  * lon                 (lon) float32 0.0 2.5 5.0 7.5 ... 352.5 355.0 357.5\n",
      "  * time                (time) object 0001-01-01 00:00:00 ... 0001-12-01 00:0...\n",
      "Dimensions without coordinates: nbnds\n",
      "Data variables:\n",
      "    climatology_bounds  (time, nbnds) datetime64[ns] ...\n",
      "    shum                (time, level, lat, lon) float32 ...\n",
      "    valid_yr_count      (time, level, lat, lon) float32 ...\n",
      "Attributes:\n",
      "    description:                    Data is from NMC initialized reanalysis\\n...\n",
      "    platform:                       Model\n",
      "    Conventions:                    COARDS\n",
      "    NCO:                            20121012\n",
      "    history:                        Created 2021/07/26 by doMonthLTMNC4\n",
      "    title:                          monthly mean shum from the NCEP Reanalysis\n",
      "    dataset_title:                  NCEP-NCAR Reanalysis 1\n",
      "    References:                     http://www.psl.noaa.gov/data/gridded/data...\n",
      "    not_missing_threshold_percent:  minimum 3% values input to have non-missi...\n",
      "    _NCProperties:                  version=2,netcdf=4.7.0,hdf5=1.10.5,\n"
     ]
    },
    {
     "name": "stderr",
     "output_type": "stream",
     "text": [
      "/Users/jungeunl/miniconda3/lib/python3.10/site-packages/xarray/coding/times.py:699: SerializationWarning: Unable to decode time axis into full numpy.datetime64 objects, continuing using cftime.datetime objects instead, reason: dates out of range\n",
      "  dtype = _decode_cf_datetime_dtype(data, units, calendar, self.use_cftime)\n",
      "/Users/jungeunl/miniconda3/lib/python3.10/site-packages/xarray/core/indexing.py:524: SerializationWarning: Unable to decode time axis into full numpy.datetime64 objects, continuing using cftime.datetime objects instead, reason: dates out of range\n",
      "  return np.asarray(array[self.key], dtype=None)\n"
     ]
    }
   ],
   "source": [
    "file1 = 'http://www.esrl.noaa.gov/psd/thredds/dodsC/Datasets/ncep.reanalysis.derived/pressure/air.mon.ltm.1991-2020.nc'\n",
    "with xr.open_dataset(file1) as ds1:\n",
    "    print(ds1)\n",
    "ta=ds1.air # Unit is oC\n",
    "\n",
    "file2 = 'http://www.esrl.noaa.gov/psd/thredds/dodsC/Datasets/ncep.reanalysis.derived/pressure/shum.mon.ltm.1991-2020.nc'\n",
    "with xr.open_dataset(file2) as ds2:\n",
    "    print(ds2)\n",
    "sphum=ds2.shum  # Unit is g/kg"
   ]
  },
  {
   "cell_type": "raw",
   "id": "13ca454d-4cf7-4943-ad1a-d1b8e1ccdfde",
   "metadata": {},
   "source": [
    "# Make a plot for July near surface specific humidity\n",
    "sphum.isel(time=6, level=0).plot()"
   ]
  },
  {
   "cell_type": "raw",
   "id": "b6e6392e-7829-4511-a495-92aa48fa8113",
   "metadata": {},
   "source": [
    "# Make a prettier plot\n",
    "lev1=np.arange(0,32,2)\n",
    "proj = ccrs.PlateCarree()\n",
    "# color map\n",
    "cmap1=plt.cm.gist_earth_r\n",
    "\n",
    "fig1 = plt.figure(figsize=(9,5))\n",
    "ax = plt.axes(projection=ccrs.PlateCarree(central_longitude=180))\n",
    "cs=(sphum.isel(time=6,level=0)).plot.contourf(ax=ax, transform=ccrs.PlateCarree(),levels=lev1, cmap=cmap1, add_colorbar=False, add_labels=False)\n",
    "ax.coastlines()\n",
    "plt.title('July specific humidity (g/kg)')\n",
    "fig1.colorbar(cs, orientation='horizontal') # color map"
   ]
  },
  {
   "cell_type": "raw",
   "id": "eb64f434-4e48-41cf-9642-8fa1f48fbf70",
   "metadata": {},
   "source": [
    "# Make a map for July temperature near surface\n",
    "lev1=np.arange(-10,32,2)\n",
    "proj = ccrs.PlateCarree()\n",
    "# color map\n",
    "cmap1=plt.cm.RdYlBu_r\n",
    "\n",
    "fig1 = plt.figure(figsize=(9,5))\n",
    "ax = plt.axes(projection=ccrs.PlateCarree(central_longitude=180))\n",
    "cs=(ta.isel(time=6,level=0)).plot.contourf(ax=ax, transform=ccrs.PlateCarree(),levels=lev1, cmap=cmap1, add_colorbar=False, add_labels=False)\n",
    "ax.coastlines()\n",
    "plt.title('July Temperature (oC)')\n",
    "fig1.colorbar(cs, orientation='horizontal') # color map"
   ]
  },
  {
   "cell_type": "markdown",
   "id": "dfa5e9b8-5fd2-4240-8799-29e75aaedd52",
   "metadata": {},
   "source": [
    "Let's calculate specific humidity."
   ]
  },
  {
   "cell_type": "raw",
   "id": "a90a09f9-df7b-43fa-8199-678d9cc9e0fd",
   "metadata": {},
   "source": [
    "MSE=(1005*(ta+273.15)+2.226e6*sphum)/1.e6  # to MJ/kg  Note that this is not accurate.\n",
    "\n",
    "# Make a map for July temperature near surface\n",
    "lev1=np.arange(0,50,2)\n",
    "proj = ccrs.PlateCarree()\n",
    "# color map\n",
    "cmap1=plt.cm.RdYlBu_r\n",
    "\n",
    "fig1 = plt.figure(figsize=(9,5))\n",
    "ax = plt.axes(projection=ccrs.PlateCarree(central_longitude=180))\n",
    "cs=(MSE.isel(time=6,level=0)).plot.contourf(ax=ax, transform=ccrs.PlateCarree(),levels=lev1, cmap=cmap1, add_colorbar=False, add_labels=False)\n",
    "ax.coastlines()\n",
    "plt.title('July MSE (MJ/kg)')\n",
    "fig1.colorbar(cs, orientation='horizontal') # color map"
   ]
  },
  {
   "cell_type": "raw",
   "id": "1de3410e-f16d-4827-87d9-25a1c3def406",
   "metadata": {},
   "source": [
    "# Make a map for July temperature near surface\n",
    "lev1=np.arange(0,50,2)\n",
    "proj = ccrs.PlateCarree()\n",
    "# color map\n",
    "cmap1=plt.cm.RdYlBu_r\n",
    "\n",
    "fig1 = plt.figure(figsize=(9,5))\n",
    "ax = plt.axes(projection=ccrs.PlateCarree(central_longitude=180))\n",
    "cs=(MSE.isel(time=0,level=0)).plot.contourf(ax=ax, transform=ccrs.PlateCarree(),levels=lev1, cmap=cmap1, add_colorbar=False, add_labels=False)\n",
    "ax.coastlines()\n",
    "plt.title('July MSE (MJ/kg)')\n",
    "fig1.colorbar(cs, orientation='horizontal') # color map"
   ]
  }
 ],
 "metadata": {
  "kernelspec": {
   "display_name": "Python 3 (ipykernel)",
   "language": "python",
   "name": "python3"
  },
  "language_info": {
   "codemirror_mode": {
    "name": "ipython",
    "version": 3
   },
   "file_extension": ".py",
   "mimetype": "text/x-python",
   "name": "python",
   "nbconvert_exporter": "python",
   "pygments_lexer": "ipython3",
   "version": "3.10.8"
  }
 },
 "nbformat": 4,
 "nbformat_minor": 5
}
