{
 "cells": [
  {
   "cell_type": "markdown",
   "id": "5682c99a-3289-493c-8056-8fa37429cf46",
   "metadata": {},
   "source": [
    "Plot vertical temperature profile from NCEP reanalysis data. xarray.open_dataset can open and decode a dataset from a file path or an OpenDAP URL.\n",
    "\n",
    "The dataset that we will be using is here:\n",
    "Catalog for long term mean data: https://psl.noaa.gov/thredds/catalog/Datasets/ncep.reanalysis2.derived/LTMs/pressure/catalog.html\n",
    "\n",
    "Data server catalog for all NOAA data:\n",
    "https://psl.noaa.gov/thredds/catalog/catalog.html"
   ]
  },
  {
   "cell_type": "code",
   "execution_count": null,
   "id": "b439ac38-877e-4fbd-9a2b-3cd01d2ab9c4",
   "metadata": {},
   "outputs": [],
   "source": [
    "import xarray as xr\n",
    "import numpy as np\n",
    "import matplotlib.pyplot as plt\n",
    "\n",
    "file1 = 'http://www.esrl.noaa.gov/psd/thredds/dodsC/Datasets/ncep.reanalysis2.derived/LTMs/pressure/air.mon.ltm.nc'\n",
    "with xr.open_dataset(file1) as ds1:\n",
    "    print(ds1)\n",
    "ta=ds1.air-273.15 # from K to oC\n",
    "\n",
    "file2 = 'http://www.esrl.noaa.gov/psd/thredds/dodsC/Datasets/ncep.reanalysis2.derived/LTMs/pressure/rhum.mon.ltm.nc'\n",
    "with xr.open_dataset(file2) as ds2:\n",
    "    print(ds2)\n",
    "rh=ds2.rhum/100.  # from % to fraction"
   ]
  },
  {
   "cell_type": "markdown",
   "id": "39a86e94-c9b6-471a-9308-0609e7cfea2c",
   "metadata": {},
   "source": [
    "MetPy is a collection of tools in Python for reading, visualizing, and performing calculations with weather data.\n",
    "https://unidata.github.io/MetPy/latest/index.html"
   ]
  },
  {
   "cell_type": "code",
   "execution_count": null,
   "id": "ea48a570-4bb8-41d6-bcfb-94ddc8bbac16",
   "metadata": {},
   "outputs": [],
   "source": [
    "import metpy\n",
    "from metpy.calc import saturation_vapor_pressure\n",
    "from metpy.calc import dewpoint_from_relative_humidity\n",
    "from metpy.calc import specific_humidity_from_dewpoint\n",
    "from metpy.units import units"
   ]
  },
  {
   "cell_type": "markdown",
   "id": "dfa5e9b8-5fd2-4240-8799-29e75aaedd52",
   "metadata": {},
   "source": [
    "Let's calculate specific humidity."
   ]
  },
  {
   "cell_type": "code",
   "execution_count": null,
   "id": "c89e43b2-b1c9-4692-b710-fc1f1c9d9fc8",
   "metadata": {},
   "outputs": [],
   "source": [
    "# First calculate dewpoint temperature.\n",
    "td = dewpoint_from_relative_humidity(ta * units.degC, ds2.rhum * units.percent)\n",
    "# Calculate specific humidity\n",
    "q = specific_humidity_from_dewpoint(ds2.level , td)*1000.  # in g/kg"
   ]
  },
  {
   "cell_type": "code",
   "execution_count": null,
   "id": "98285e02-45da-48ad-b9f9-4c2ca7e450f0",
   "metadata": {},
   "outputs": [],
   "source": [
    "# January specific humidity at the lowest atmospheric level\n",
    "q.isel(time=0).isel(level=0).plot()"
   ]
  },
  {
   "cell_type": "code",
   "execution_count": null,
   "id": "eb4d0eb7-f526-464a-a140-b4438bf8fb3e",
   "metadata": {},
   "outputs": [],
   "source": [
    "# July specific humidity at the lowest atmospheric level\n",
    "q.isel(time=6).isel(level=0).plot()"
   ]
  },
  {
   "cell_type": "code",
   "execution_count": null,
   "id": "6d5672aa-bc23-4cd6-bf3b-19455e8d2013",
   "metadata": {},
   "outputs": [],
   "source": [
    "# Plot zonal and annual average vertical profile of specific humidity\n",
    "q.mean([\"time\",\"lon\"]).plot()\n",
    "plt.ylim(1000,0)"
   ]
  },
  {
   "cell_type": "code",
   "execution_count": null,
   "id": "4c986254-5abb-4d78-8afb-53574bf59be1",
   "metadata": {},
   "outputs": [],
   "source": [
    "# Plot specific humidity profile in Providence\n",
    "lat_pvd=41.8\n",
    "lon_pvd=-71.4+360\n",
    "qa_prov=q.sel(lat=lat_pvd,lon=lon_pvd , method='nearest')\n",
    "qa_prov.isel(time=0).plot()\n",
    "qa_prov.isel(time=6).plot()"
   ]
  },
  {
   "cell_type": "code",
   "execution_count": null,
   "id": "c4c2d14e-7df5-4d21-ba06-72ebfd6ac26f",
   "metadata": {},
   "outputs": [],
   "source": [
    "# Plot specific humidity profile in Providence and a tropical point\n",
    "lat_pvd=41.8\n",
    "lon_pvd=-71.4+360\n",
    "qa_prov=q.sel(lat=lat_pvd,lon=lon_pvd , method='nearest')\n",
    "qa_prov.isel(time=0).plot()\n",
    "qa_prov.isel(time=6).plot()\n",
    "lat_tp=5\n",
    "lon_tp=-71.4+360\n",
    "qa_tp=q.sel(lat=lat_tp,lon=lon_tp , method='nearest')\n",
    "qa_tp.isel(time=6).plot()"
   ]
  }
 ],
 "metadata": {
  "kernelspec": {
   "display_name": "Python 3 (ipykernel)",
   "language": "python",
   "name": "python3"
  },
  "language_info": {
   "codemirror_mode": {
    "name": "ipython",
    "version": 3
   },
   "file_extension": ".py",
   "mimetype": "text/x-python",
   "name": "python",
   "nbconvert_exporter": "python",
   "pygments_lexer": "ipython3",
   "version": "3.10.8"
  }
 },
 "nbformat": 4,
 "nbformat_minor": 5
}
